{
 "cells": [
  {
   "cell_type": "markdown",
   "metadata": {},
   "source": [
    "# Introduction\n",
    "--------------\n",
    "\n",
    "Basic Python programming examples\n"
   ]
  },
  {
   "cell_type": "code",
   "execution_count": 4,
   "metadata": {
    "scrolled": true
   },
   "outputs": [
    {
     "name": "stdout",
     "output_type": "stream",
     "text": [
      "\n",
      " Hello world I am editing! Python is great! The editor of this code is L Curiel\n",
      "2\n"
     ]
    }
   ],
   "source": [
    "#This is the simplest of the codes for Python\n",
    "\n",
    "txt='Python is great!'\n",
    "txt2=\" The editor of this code is L Curiel\"\n",
    "print('\\n Hello world I am editing! '+txt+txt2)\n",
    "list1=[2,2,3]\n",
    "print(list1[0])\n"
   ]
  },
  {
   "cell_type": "markdown",
   "metadata": {},
   "source": [
    "We just ran our first Python code on a notebook!\n",
    "\n",
    "Test your knowledge:\n",
    "\n",
    "* Execute 3 of the code examples in the tutorial and add some Markdown cells\n"
   ]
  },
  {
   "cell_type": "markdown",
   "metadata": {},
   "source": [
    "### Python strings\n",
    "    Strings are defined as a set of characters represented in quotation marks."
   ]
  },
  {
   "cell_type": "code",
   "execution_count": 6,
   "metadata": {},
   "outputs": [
    {
     "name": "stdout",
     "output_type": "stream",
     "text": [
      "Manikandan Rajasekaran\n",
      "n\n",
      "ika\n",
      "nikandan Rajasekaran\n",
      "Manikandan RajasekaranManikandan RajasekaranManikandan Rajasekaran\n",
      "Manikandan RajasekaranME\n"
     ]
    }
   ],
   "source": [
    "str = 'Manikandan Rajasekaran'\n",
    "\n",
    "print str          # It Prints the whole string\n",
    "print str[6]       # Prints sixth character of the string\n",
    "print str[3:6]     # Prints characters starting from 3rd to 6th\n",
    "print str[2:]      # Prints string starting from 3rd character\n",
    "print str * 3      # Prints the whole string three times\n",
    "print str + \"ME\" # Prints concatenated string"
   ]
  },
  {
   "cell_type": "markdown",
   "metadata": {},
   "source": [
    "### Assigning values to variables\n",
    "     Python variables does not need a memory space. It happens automatically when a value is assigned to a variable and the (=) sign is used to assign thr value to a variable."
   ]
  },
  {
   "cell_type": "code",
   "execution_count": 7,
   "metadata": {},
   "outputs": [
    {
     "name": "stdout",
     "output_type": "stream",
     "text": [
      "25\n",
      "1000.0\n",
      "Manikandan\n"
     ]
    }
   ],
   "source": [
    "Age = 25          # An integer assignment\n",
    "miles   = 1000.0       # A floating point\n",
    "name    = \"Manikandan\"       # A string\n",
    "\n",
    "print Age\n",
    "print miles\n",
    "print name"
   ]
  },
  {
   "cell_type": "markdown",
   "metadata": {},
   "source": [
    "### Arithmatic Operations\n",
    "    In python we have operators to do the arithmatic operation. They are addition, Subraction, multiplication, Division etc."
   ]
  },
  {
   "cell_type": "code",
   "execution_count": 10,
   "metadata": {},
   "outputs": [
    {
     "name": "stdout",
     "output_type": "stream",
     "text": [
      "25\n",
      "-5\n"
     ]
    }
   ],
   "source": [
    "A = 10   #integer assignment\n",
    "B = 15   #integer assignment\n",
    "Addition = A + B #Adding two integers\n",
    "Subraction = A - B # subracting two integers\n",
    "print Addition\n",
    "print Subraction"
   ]
  },
  {
   "cell_type": "markdown",
   "metadata": {},
   "source": [
    "### List and list Functions\n",
    "     The List is one of the data types available in python. It can be written as a list of comma seperated values between the square bracket."
   ]
  },
  {
   "cell_type": "code",
   "execution_count": 12,
   "metadata": {},
   "outputs": [
    {
     "name": "stdout",
     "output_type": "stream",
     "text": [
      "('Name[0]: ', 'mani')\n",
      "('Age[0]: ', 15)\n",
      "('course[0]: ', 'ECE')\n"
     ]
    }
   ],
   "source": [
    "Name = ['mani', 'john', 'stanly']\n",
    "Age= [15, 25, 23];\n",
    "course = ['ECE', 'CS', 'MEC'];\n",
    "\n",
    "print (\"Name[0]: \", Name[0])\n",
    "print (\"Age[0]: \", Age[0])\n",
    "print (\"course[0]: \", course[0])\n"
   ]
  },
  {
   "cell_type": "code",
   "execution_count": null,
   "metadata": {
    "collapsed": true
   },
   "outputs": [],
   "source": []
  }
 ],
 "metadata": {
  "anaconda-cloud": {},
  "kernelspec": {
   "display_name": "Python 2",
   "language": "python",
   "name": "python2"
  },
  "language_info": {
   "codemirror_mode": {
    "name": "ipython",
    "version": 2
   },
   "file_extension": ".py",
   "mimetype": "text/x-python",
   "name": "python",
   "nbconvert_exporter": "python",
   "pygments_lexer": "ipython2",
   "version": "2.7.13"
  }
 },
 "nbformat": 4,
 "nbformat_minor": 1
}
